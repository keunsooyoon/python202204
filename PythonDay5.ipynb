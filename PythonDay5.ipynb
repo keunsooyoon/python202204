{
  "nbformat": 4,
  "nbformat_minor": 0,
  "metadata": {
    "colab": {
      "name": "PythonDay5.ipynb",
      "provenance": [],
      "collapsed_sections": [],
      "authorship_tag": "ABX9TyNDlLki23fJsquKXaWxxydB",
      "include_colab_link": true
    },
    "kernelspec": {
      "name": "python3",
      "display_name": "Python 3"
    },
    "language_info": {
      "name": "python"
    }
  },
  "cells": [
    {
      "cell_type": "markdown",
      "metadata": {
        "id": "view-in-github",
        "colab_type": "text"
      },
      "source": [
        "<a href=\"https://colab.research.google.com/github/keunsooyoon/python202204/blob/main/PythonDay5.ipynb\" target=\"_parent\"><img src=\"https://colab.research.google.com/assets/colab-badge.svg\" alt=\"Open In Colab\"/></a>"
      ]
    },
    {
      "cell_type": "code",
      "execution_count": null,
      "metadata": {
        "colab": {
          "base_uri": "https://localhost:8080/"
        },
        "id": "iGf7vk_lJkrg",
        "outputId": "6f4277ee-4458-48fc-e7bf-51f40c3b0ed2"
      },
      "outputs": [
        {
          "output_type": "stream",
          "name": "stdout",
          "text": [
            "1\n",
            "2\n",
            "3\n"
          ]
        }
      ],
      "source": [
        "# p116 for문\n",
        "\n",
        "\n",
        "for n in [1,2,3]:\n",
        "  print(n)"
      ]
    },
    {
      "cell_type": "code",
      "source": [
        ""
      ],
      "metadata": {
        "id": "2rMo-12cbM0u"
      },
      "execution_count": null,
      "outputs": []
    },
    {
      "cell_type": "code",
      "source": [
        "n = 1\n",
        "while n in [1,2,3]:\n",
        "  print(n)\n",
        "  n += 1\n"
      ],
      "metadata": {
        "colab": {
          "base_uri": "https://localhost:8080/"
        },
        "id": "l4tmRqdOLlR1",
        "outputId": "7a592a8d-f0c7-46e0-90a8-994bf262ad71"
      },
      "execution_count": null,
      "outputs": [
        {
          "output_type": "stream",
          "name": "stdout",
          "text": [
            "1\n",
            "2\n",
            "3\n"
          ]
        }
      ]
    },
    {
      "cell_type": "code",
      "source": [
        "# 반복 가능 객체 (컬렉션)\n",
        "# 시퀀스 자료형 - 문자열 리스트 튜플 range\n",
        "# 비시퀀스 자료형 - 셋, 딕셔너리 (순서가 없다. )\n",
        "\n",
        "for ch in 'Hello':\n",
        "  print(ch)"
      ],
      "metadata": {
        "colab": {
          "base_uri": "https://localhost:8080/"
        },
        "id": "PDXgA458Mida",
        "outputId": "22fac766-589d-46b9-ad5c-8371c155756a"
      },
      "execution_count": null,
      "outputs": [
        {
          "output_type": "stream",
          "name": "stdout",
          "text": [
            "H\n",
            "e\n",
            "l\n",
            "l\n",
            "o\n"
          ]
        }
      ]
    },
    {
      "cell_type": "code",
      "source": [
        "# for 문과 list\n",
        "for item in ['가위','바위','보']:\n",
        "  print(item)"
      ],
      "metadata": {
        "colab": {
          "base_uri": "https://localhost:8080/"
        },
        "id": "vv5QtKv7NPdr",
        "outputId": "d52e5e99-1a03-437d-9a19-f46f3d7a31a7"
      },
      "execution_count": null,
      "outputs": [
        {
          "output_type": "stream",
          "name": "stdout",
          "text": [
            "가위\n",
            "바위\n",
            "보\n"
          ]
        }
      ]
    },
    {
      "cell_type": "code",
      "source": [
        "# for 문과 tuple\n",
        "for season in ('Spting','Summer','Autumn','Winter'):\n",
        "  print(season)"
      ],
      "metadata": {
        "colab": {
          "base_uri": "https://localhost:8080/"
        },
        "id": "DPG2I_O2NhXE",
        "outputId": "14aa41ea-4258-4f80-db7c-06ea3ad8369b"
      },
      "execution_count": null,
      "outputs": [
        {
          "output_type": "stream",
          "name": "stdout",
          "text": [
            "Spting\n",
            "Summer\n",
            "Autumn\n",
            "Winter\n"
          ]
        }
      ]
    },
    {
      "cell_type": "code",
      "source": [
        "# for 문과 range()\n",
        "\n",
        "#range(5)   # 0부터 5미만까지 즉 4까지\n",
        "#range(2,10) # 2브터 10미만 즉 9까지"
      ],
      "metadata": {
        "colab": {
          "base_uri": "https://localhost:8080/"
        },
        "id": "rEbDl3f5N0XZ",
        "outputId": "6edd7591-247b-4e20-d69c-0cb34288355a"
      },
      "execution_count": null,
      "outputs": [
        {
          "output_type": "execute_result",
          "data": {
            "text/plain": [
              "range(2, 10)"
            ]
          },
          "metadata": {},
          "execution_count": 7
        }
      ]
    },
    {
      "cell_type": "code",
      "source": [
        "print(list(range(5)))"
      ],
      "metadata": {
        "colab": {
          "base_uri": "https://localhost:8080/"
        },
        "id": "dcdz1ZyQOT39",
        "outputId": "264de702-eeb0-433b-e57b-74767e7c70ba"
      },
      "execution_count": null,
      "outputs": [
        {
          "output_type": "stream",
          "name": "stdout",
          "text": [
            "[0, 1, 2, 3, 4]\n"
          ]
        }
      ]
    },
    {
      "cell_type": "code",
      "source": [
        "print(list(range(2,10)))"
      ],
      "metadata": {
        "colab": {
          "base_uri": "https://localhost:8080/"
        },
        "id": "4BH1-QDhOipk",
        "outputId": "6a37bc64-4df7-4fe1-ebbc-b084117babb0"
      },
      "execution_count": null,
      "outputs": [
        {
          "output_type": "stream",
          "name": "stdout",
          "text": [
            "[2, 3, 4, 5, 6, 7, 8, 9]\n"
          ]
        }
      ]
    },
    {
      "cell_type": "code",
      "source": [
        "for n in [1,2,3,4,5,6,7,8,9,10]:\n",
        "  print(n)"
      ],
      "metadata": {
        "colab": {
          "base_uri": "https://localhost:8080/"
        },
        "id": "Iq62MEhfOwUo",
        "outputId": "a4fc1f04-d216-41ff-c752-c2fb7c6bc5e3"
      },
      "execution_count": null,
      "outputs": [
        {
          "output_type": "stream",
          "name": "stdout",
          "text": [
            "1\n",
            "2\n",
            "3\n",
            "4\n",
            "5\n",
            "6\n",
            "7\n",
            "8\n",
            "9\n",
            "10\n"
          ]
        }
      ]
    },
    {
      "cell_type": "code",
      "source": [
        "for n in range(1,11):\n",
        "  print(n)"
      ],
      "metadata": {
        "colab": {
          "base_uri": "https://localhost:8080/"
        },
        "id": "6ueto4uxO_5z",
        "outputId": "68fc7d6b-d1b3-4484-c4c4-6a074e5a15aa"
      },
      "execution_count": null,
      "outputs": [
        {
          "output_type": "stream",
          "name": "stdout",
          "text": [
            "1\n",
            "2\n",
            "3\n",
            "4\n",
            "5\n",
            "6\n",
            "7\n",
            "8\n",
            "9\n",
            "10\n"
          ]
        }
      ]
    },
    {
      "cell_type": "code",
      "source": [
        "#for 문과 set\n",
        "for item in {'가위','바위','보'}:\n",
        "  print(item)\n"
      ],
      "metadata": {
        "colab": {
          "base_uri": "https://localhost:8080/"
        },
        "id": "8CSmA2kWPIe8",
        "outputId": "82839a81-4916-4a16-b852-8a98e4ba2f46"
      },
      "execution_count": null,
      "outputs": [
        {
          "output_type": "stream",
          "name": "stdout",
          "text": [
            "보\n",
            "가위\n",
            "바위\n"
          ]
        }
      ]
    },
    {
      "cell_type": "code",
      "source": [
        "#for 문과 딕셔너리\n",
        "\n",
        "person = {\n",
        "    'name':'에밀리',\n",
        "    'age':20\n",
        "}\n",
        "\n",
        "for item in person:\n",
        "  print(item, person[item])"
      ],
      "metadata": {
        "colab": {
          "base_uri": "https://localhost:8080/"
        },
        "id": "vjx5ze1ePnt0",
        "outputId": "3ed42bd0-679f-4a04-b819-adaf108b5da2"
      },
      "execution_count": null,
      "outputs": [
        {
          "output_type": "stream",
          "name": "stdout",
          "text": [
            "name 에밀리\n",
            "age 20\n"
          ]
        }
      ]
    },
    {
      "cell_type": "code",
      "source": [
        "# 129 #2 \n",
        "\n",
        "n = int(input('임의의 양수를 입력하세요 >>>'))\n",
        "\n",
        "sum = 0\n",
        "for no in range(1,n+1):\n",
        "  sum += no\n",
        "print(sum)"
      ],
      "metadata": {
        "colab": {
          "base_uri": "https://localhost:8080/"
        },
        "id": "vVrkW18gQPM_",
        "outputId": "05dfe664-2cbc-42cb-b6ed-77d8ce39b87a"
      },
      "execution_count": null,
      "outputs": [
        {
          "output_type": "stream",
          "name": "stdout",
          "text": [
            "임의의 양수를 입력하세요 >>>3\n",
            "6\n"
          ]
        }
      ]
    },
    {
      "cell_type": "code",
      "source": [
        "# 129 #3\n",
        "no = int(input('몇 개의 과일을 보관할까요? >>>'))\n",
        "\n",
        "basket = []\n",
        "\n",
        "for i in range(no):\n",
        "  fruit = input(f'{i+1}번째 과일을 입력하세요 >>>')\n",
        "  basket.append(fruit)\n",
        "\n",
        "print(f'입력받은 과일들은 {basket}입니다.')"
      ],
      "metadata": {
        "colab": {
          "base_uri": "https://localhost:8080/"
        },
        "id": "gFYK4vGmR8M8",
        "outputId": "cff69a85-b709-409e-9003-799bbb7759b9"
      },
      "execution_count": null,
      "outputs": [
        {
          "output_type": "stream",
          "name": "stdout",
          "text": [
            "몇 개의 과일을 보관할까요? >>>3\n",
            "1번째 과일을 입력하세요 >>>애플\n",
            "2번째 과일을 입력하세요 >>>바나나\n",
            "3번째 과일을 입력하세요 >>>체리\n",
            "입력받은 과일들은 ['애플', '바나나', '체리']입니다.\n"
          ]
        }
      ]
    },
    {
      "cell_type": "code",
      "source": [
        "# p 134   break\n",
        "\n",
        "n = 1\n",
        "while n <= 10:\n",
        "  print(n)\n",
        "\n",
        "  n += 1\n",
        "\n"
      ],
      "metadata": {
        "colab": {
          "base_uri": "https://localhost:8080/"
        },
        "id": "3ZsywQ1IUDcI",
        "outputId": "644dd9f3-7315-4a53-8891-e5c43dd72479"
      },
      "execution_count": null,
      "outputs": [
        {
          "output_type": "stream",
          "name": "stdout",
          "text": [
            "1\n",
            "2\n",
            "3\n",
            "4\n",
            "5\n",
            "6\n",
            "7\n",
            "8\n",
            "9\n",
            "10\n"
          ]
        }
      ]
    },
    {
      "cell_type": "code",
      "source": [
        "n = 1\n",
        "while True:\n",
        "  print(n)\n",
        "  if n == 10:\n",
        "    break\n",
        "  n += 1"
      ],
      "metadata": {
        "colab": {
          "base_uri": "https://localhost:8080/"
        },
        "id": "mLLVml-KUpeV",
        "outputId": "3575e8d9-b947-4716-f004-b63ff5c3e330"
      },
      "execution_count": null,
      "outputs": [
        {
          "output_type": "stream",
          "name": "stdout",
          "text": [
            "1\n",
            "2\n",
            "3\n",
            "4\n",
            "5\n",
            "6\n",
            "7\n",
            "8\n",
            "9\n",
            "10\n"
          ]
        }
      ]
    },
    {
      "cell_type": "code",
      "source": [
        "# p 138 continue\n",
        "\n",
        "total = 0\n",
        "for a in range(1,101):\n",
        "  if a % 3 == 0:\n",
        "    continue\n",
        "  total += a\n",
        "\n",
        "print(total)\n",
        "\n"
      ],
      "metadata": {
        "colab": {
          "base_uri": "https://localhost:8080/"
        },
        "id": "WC0keKm4VBDf",
        "outputId": "383c4898-b1d7-4e3a-c741-f40f4a552ea7"
      },
      "execution_count": null,
      "outputs": [
        {
          "output_type": "stream",
          "name": "stdout",
          "text": [
            "3367\n"
          ]
        }
      ]
    },
    {
      "cell_type": "code",
      "source": [
        "# p141 #1\n",
        "\n",
        "\n",
        "coin = 10000\n",
        "while True:\n",
        "  print(f'현재 {coin}원이 있습니다.')\n",
        "\n",
        "  if coin == 0:\n",
        "    break\n",
        "\n",
        "  pay = int(input('사용할 급액 입력 >>> '))\n",
        "\n",
        "  if pay <= 0:\n",
        "    print('0이하의 금액은 사용할 수 없습니다.')\n",
        "  elif pay > coin:\n",
        "    print(f'{pay - coin}원이 부족합니다.')\n",
        "  else:\n",
        "    coin -= pay\n"
      ],
      "metadata": {
        "colab": {
          "base_uri": "https://localhost:8080/"
        },
        "id": "0ZdwNdwLYgII",
        "outputId": "be2e7194-0b89-46b3-eb3e-6952977fc7fa"
      },
      "execution_count": null,
      "outputs": [
        {
          "output_type": "stream",
          "name": "stdout",
          "text": [
            "현재 10000원이 있습니다.\n",
            "사용할 급액 입력 >>> 5000\n",
            "현재 5000원이 있습니다.\n",
            "사용할 급액 입력 >>> -5000\n",
            "0이하의 금액은 사용할 수 없습니다.\n",
            "현재 5000원이 있습니다.\n",
            "사용할 급액 입력 >>> 6000\n",
            "1000원이 부족합니다.\n",
            "현재 5000원이 있습니다.\n",
            "사용할 급액 입력 >>> 4000\n",
            "현재 1000원이 있습니다.\n",
            "사용할 급액 입력 >>> 1000\n",
            "현재 0원이 있습니다.\n"
          ]
        }
      ]
    },
    {
      "cell_type": "code",
      "source": [
        "# p141 #2\n",
        "while True:\n",
        "  score = int(input('이번 영화의 평점을 입력하세요 >>> '))\n",
        "\n",
        "  if score > 5 or score <= 0:\n",
        "    print('평점은 1~5사이만 입력할수 있습니다.')\n",
        "  else:\n",
        "    print('평점 : ' , '★' * score )\n",
        "    break\n",
        "\n"
      ],
      "metadata": {
        "colab": {
          "base_uri": "https://localhost:8080/"
        },
        "id": "a7Vnp7zWazco",
        "outputId": "9533da74-581d-4180-a3d1-12792c5f9a1d"
      },
      "execution_count": null,
      "outputs": [
        {
          "output_type": "stream",
          "name": "stdout",
          "text": [
            "이번 영화의 평점을 입력하세요 >>> 10\n",
            "평점은 1~5사이만 입력할수 있습니다.\n",
            "이번 영화의 평점을 입력하세요 >>> -5\n",
            "평점은 1~5사이만 입력할수 있습니다.\n",
            "이번 영화의 평점을 입력하세요 >>> 4\n",
            "평점 :  ★★★★\n"
          ]
        }
      ]
    },
    {
      "cell_type": "code",
      "source": [
        "# p142 #3\n",
        "\n",
        "answer = 'qwerty'\n",
        "\n",
        "no = 1\n",
        "\n",
        "while True:\n",
        "  password = input('비밀번호를 입력하세요 >>> ')\n",
        "\n",
        "  if answer == password:\n",
        "    print('비밀번호를 맞혔습니다.')\n",
        "    break\n",
        "\n",
        "  if no == 5:\n",
        "    print('비밀번호 입력횟수를 초과했습니다.')\n",
        "    break\n",
        "\n",
        "  no += 1\n",
        "\n",
        "  "
      ],
      "metadata": {
        "colab": {
          "base_uri": "https://localhost:8080/"
        },
        "id": "wkd5DVRMeNbO",
        "outputId": "a796df49-dc17-4807-feb2-825ae7286367"
      },
      "execution_count": null,
      "outputs": [
        {
          "output_type": "stream",
          "name": "stdout",
          "text": [
            "비밀번호를 입력하세요 >>> 5342\n",
            "비밀번호를 입력하세요 >>> 5432\n",
            "비밀번호를 입력하세요 >>> 54236543654\n",
            "비밀번호를 입력하세요 >>> 7654\n",
            "비밀번호를 입력하세요 >>> 43214321\n",
            "비밀번호 입력횟수를 초과했습니다.\n"
          ]
        }
      ]
    },
    {
      "cell_type": "code",
      "source": [
        "# p143 #4\n",
        "\n",
        "for i in range(2,10):\n",
        "  if i % 2 == 0:\n",
        "    continue\n",
        "  for j in range(1,10):\n",
        "    if j > i:\n",
        "      break\n",
        "    print(f'{i} * {j} = {i*j}')\n",
        "  print()\n",
        "\n"
      ],
      "metadata": {
        "colab": {
          "base_uri": "https://localhost:8080/"
        },
        "id": "AF4dMvGveTC3",
        "outputId": "5179c32c-d183-41f1-cca7-1ee5412021da"
      },
      "execution_count": null,
      "outputs": [
        {
          "output_type": "stream",
          "name": "stdout",
          "text": [
            "3 * 1 = 3\n",
            "3 * 2 = 6\n",
            "3 * 3 = 9\n",
            "\n",
            "5 * 1 = 5\n",
            "5 * 2 = 10\n",
            "5 * 3 = 15\n",
            "5 * 4 = 20\n",
            "5 * 5 = 25\n",
            "\n",
            "7 * 1 = 7\n",
            "7 * 2 = 14\n",
            "7 * 3 = 21\n",
            "7 * 4 = 28\n",
            "7 * 5 = 35\n",
            "7 * 6 = 42\n",
            "7 * 7 = 49\n",
            "\n",
            "9 * 1 = 9\n",
            "9 * 2 = 18\n",
            "9 * 3 = 27\n",
            "9 * 4 = 36\n",
            "9 * 5 = 45\n",
            "9 * 6 = 54\n",
            "9 * 7 = 63\n",
            "9 * 8 = 72\n",
            "9 * 9 = 81\n",
            "\n"
          ]
        }
      ]
    },
    {
      "cell_type": "code",
      "source": [
        "# 146 내장함수\n",
        "\n",
        "# enumerate()\n",
        "for item in enumerate(['가위','바위','보']):\n",
        "  print(item)"
      ],
      "metadata": {
        "colab": {
          "base_uri": "https://localhost:8080/"
        },
        "id": "EIIX43ElmKZM",
        "outputId": "d51356d2-0173-4ebb-f8dd-dd52ca3ffbbe"
      },
      "execution_count": null,
      "outputs": [
        {
          "output_type": "stream",
          "name": "stdout",
          "text": [
            "(0, '가위')\n",
            "(1, '바위')\n",
            "(2, '보')\n"
          ]
        }
      ]
    },
    {
      "cell_type": "code",
      "source": [
        "for idx, item in enumerate(['가위','바위','보']):\n",
        "  print(idx + 1, item)"
      ],
      "metadata": {
        "colab": {
          "base_uri": "https://localhost:8080/"
        },
        "id": "wv3xd2_jm3Ku",
        "outputId": "ea7fe14b-0a09-4bc6-fcb0-ad65386665db"
      },
      "execution_count": null,
      "outputs": [
        {
          "output_type": "stream",
          "name": "stdout",
          "text": [
            "1 가위\n",
            "2 바위\n",
            "3 보\n"
          ]
        }
      ]
    },
    {
      "cell_type": "code",
      "source": [
        "# zip()\n",
        "\n",
        "names = ['james','emily','amanda']\n",
        "scores = [60,70,80]\n",
        "\n",
        "for student in zip(names,scores):\n",
        "  print(student)"
      ],
      "metadata": {
        "colab": {
          "base_uri": "https://localhost:8080/"
        },
        "id": "Bi7zqUd7nSwq",
        "outputId": "d4a42f1b-4b30-4699-bbc2-bda404bfbeb9"
      },
      "execution_count": null,
      "outputs": [
        {
          "output_type": "stream",
          "name": "stdout",
          "text": [
            "('james', 60)\n",
            "('emily', 70)\n",
            "('amanda', 80)\n"
          ]
        }
      ]
    },
    {
      "cell_type": "code",
      "source": [
        "names = ['james','emily','amanda']\n",
        "scores = [60,70,80]\n",
        "\n",
        "for name, score in zip(names,scores):\n",
        "  print(f'{name}의 점수는 {score}점입니다.')"
      ],
      "metadata": {
        "colab": {
          "base_uri": "https://localhost:8080/"
        },
        "id": "hfMq0RzZnseO",
        "outputId": "8c752ed3-aca1-45c0-ec18-c85547a69cc8"
      },
      "execution_count": null,
      "outputs": [
        {
          "output_type": "stream",
          "name": "stdout",
          "text": [
            "james의 점수는 60점입니다.\n",
            "emily의 점수는 70점입니다.\n",
            "amanda의 점수는 80점입니다.\n"
          ]
        }
      ]
    },
    {
      "cell_type": "code",
      "source": [
        "# p184 사용자 함수 \n",
        "\n",
        "# def 함수명(변수) :\n",
        "#   본문\n",
        "#   return 결과"
      ],
      "metadata": {
        "id": "D8_uFpjjpnwy"
      },
      "execution_count": null,
      "outputs": []
    },
    {
      "cell_type": "code",
      "source": [
        "# 1 인수 없고 반환 없는 사용자 정의 함수\n",
        "# 2 인수 있고 반환 없는 사용자 정의 함수\n",
        "# 3 인수 없고 반환 있는 사용자 정의 함수\n",
        "# 4 인수 있고 반환 있는 사용자 정의 함수"
      ],
      "metadata": {
        "id": "lGHXQzhDqc17"
      },
      "execution_count": null,
      "outputs": []
    },
    {
      "cell_type": "code",
      "source": [
        ""
      ],
      "metadata": {
        "id": "JLAcxOissWSx"
      },
      "execution_count": null,
      "outputs": []
    },
    {
      "cell_type": "code",
      "source": [
        "# 1 인수 없고 반환 없는 사용자 정의 함수\n",
        "\n",
        "def welcome():\n",
        "  print('Hello World')\n",
        "\n",
        "\n",
        "welcome()  \n"
      ],
      "metadata": {
        "colab": {
          "base_uri": "https://localhost:8080/"
        },
        "id": "J-4RS1eiq-FZ",
        "outputId": "bf49395c-8613-471f-a659-b873857b4d00"
      },
      "execution_count": null,
      "outputs": [
        {
          "output_type": "stream",
          "name": "stdout",
          "text": [
            "Hello World\n"
          ]
        }
      ]
    },
    {
      "cell_type": "code",
      "source": [
        "# 2 인수 있고 반환 없는 사용자 정의 함수\n",
        "\n",
        "def welcome(name):\n",
        "  print('Hello', name)\n",
        "\n",
        "\n",
        "welcome('Austin')  "
      ],
      "metadata": {
        "colab": {
          "base_uri": "https://localhost:8080/"
        },
        "id": "ONocrZoArd4f",
        "outputId": "8adbd065-8116-4506-a42a-b6f387440855"
      },
      "execution_count": null,
      "outputs": [
        {
          "output_type": "stream",
          "name": "stdout",
          "text": [
            "Hello Austin\n"
          ]
        }
      ]
    },
    {
      "cell_type": "code",
      "source": [
        "# 3 인수 없고 반환 있는 사용자 정의 함수\n",
        "def welcome():\n",
        "  return 1\n",
        "\n",
        "welcome()"
      ],
      "metadata": {
        "colab": {
          "base_uri": "https://localhost:8080/"
        },
        "id": "KxFPRwK3r4Hm",
        "outputId": "a00af1a5-7f9a-4ebe-f630-fe003c888c5e"
      },
      "execution_count": null,
      "outputs": [
        {
          "output_type": "execute_result",
          "data": {
            "text/plain": [
              "1"
            ]
          },
          "metadata": {},
          "execution_count": 55
        }
      ]
    },
    {
      "cell_type": "code",
      "source": [
        "# 4 인수 있고 반환 있는 사용자 정의 함수\n",
        "\n",
        "def add(a,b):\n",
        "  return a+b\n",
        "\n",
        "add(3,4)"
      ],
      "metadata": {
        "colab": {
          "base_uri": "https://localhost:8080/"
        },
        "id": "6RkQiBKXsW_i",
        "outputId": "0af60d30-38a5-4062-e64d-c90403596ce6"
      },
      "execution_count": null,
      "outputs": [
        {
          "output_type": "execute_result",
          "data": {
            "text/plain": [
              "7"
            ]
          },
          "metadata": {},
          "execution_count": 56
        }
      ]
    },
    {
      "cell_type": "code",
      "source": [
        "def introduce(name,age):\n",
        "  print(f'내이름은 {name}이고, 나이는 {age}살입니다.')\n",
        "\n",
        "introduce('james', 25)"
      ],
      "metadata": {
        "colab": {
          "base_uri": "https://localhost:8080/"
        },
        "id": "NWfAeCPVsxtq",
        "outputId": "a2a945ba-98cc-4a90-9982-daab824a9c1a"
      },
      "execution_count": null,
      "outputs": [
        {
          "output_type": "stream",
          "name": "stdout",
          "text": [
            "내이름은 james이고, 나이는 25살입니다.\n"
          ]
        }
      ]
    },
    {
      "cell_type": "code",
      "source": [
        "# 가변 매개변수\n",
        "\n",
        "def add2(a,b):\n",
        "  return a+b\n",
        "\n",
        "def add3(a,b,c):\n",
        "  return a+b+c\n",
        "\n",
        "add2(3,4)\n",
        "\n",
        "\n",
        "\n",
        "\n",
        "def add(*args):\n",
        "  sum = 0\n",
        "  for item in args:\n",
        "    sum += item\n",
        "  print(sum)\n",
        "\n",
        "\n",
        "add(1,2,3,4,5,6,7,8,9)"
      ],
      "metadata": {
        "colab": {
          "base_uri": "https://localhost:8080/"
        },
        "id": "XddhwtRCtLo9",
        "outputId": "6580f71c-f605-4325-98d2-b38352f077fa"
      },
      "execution_count": null,
      "outputs": [
        {
          "output_type": "stream",
          "name": "stdout",
          "text": [
            "45\n"
          ]
        }
      ]
    },
    {
      "cell_type": "code",
      "source": [
        "del sum\n",
        "\n",
        "def add(*args):\n",
        "  print(f'{sum(args)}입니다.')\n",
        "\n",
        "\n",
        "add(1,2,3)"
      ],
      "metadata": {
        "colab": {
          "base_uri": "https://localhost:8080/"
        },
        "id": "0YPBQdBAvcDK",
        "outputId": "5e83c973-f59e-4b26-f43e-767312653a6e"
      },
      "execution_count": null,
      "outputs": [
        {
          "output_type": "stream",
          "name": "stdout",
          "text": [
            "6입니다.\n"
          ]
        }
      ]
    },
    {
      "cell_type": "code",
      "source": [
        "# 디폴트 매개변수\n",
        "def greet(message='안녕하세요'):\n",
        "  print(message)\n",
        "\n",
        "greet()"
      ],
      "metadata": {
        "colab": {
          "base_uri": "https://localhost:8080/"
        },
        "id": "dw3WerJFu0HN",
        "outputId": "fdfd7f85-7dc6-4fbf-c5a8-6208f146353b"
      },
      "execution_count": null,
      "outputs": [
        {
          "output_type": "stream",
          "name": "stdout",
          "text": [
            "안녕하세요\n"
          ]
        }
      ]
    },
    {
      "cell_type": "code",
      "source": [
        "greet('방가방가')"
      ],
      "metadata": {
        "colab": {
          "base_uri": "https://localhost:8080/"
        },
        "id": "atTg5B6evGJn",
        "outputId": "d9f54784-f40f-440b-c5fc-c3f67860e68d"
      },
      "execution_count": null,
      "outputs": [
        {
          "output_type": "stream",
          "name": "stdout",
          "text": [
            "방가방가\n"
          ]
        }
      ]
    }
  ]
}