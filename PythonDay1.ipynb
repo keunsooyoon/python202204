{
  "nbformat": 4,
  "nbformat_minor": 0,
  "metadata": {
    "colab": {
      "name": "PythonDay1.ipynb",
      "provenance": [],
      "authorship_tag": "ABX9TyNCLNHfqQQSroZJZMpbDumc",
      "include_colab_link": true
    },
    "kernelspec": {
      "name": "python3",
      "display_name": "Python 3"
    },
    "language_info": {
      "name": "python"
    }
  },
  "cells": [
    {
      "cell_type": "markdown",
      "metadata": {
        "id": "view-in-github",
        "colab_type": "text"
      },
      "source": [
        "<a href=\"https://colab.research.google.com/github/keunsooyoon/python202204/blob/main/PythonDay1.ipynb\" target=\"_parent\"><img src=\"https://colab.research.google.com/assets/colab-badge.svg\" alt=\"Open In Colab\"/></a>"
      ]
    },
    {
      "cell_type": "code",
      "execution_count": 2,
      "metadata": {
        "id": "opfjE7koc2mg"
      },
      "outputs": [],
      "source": [
        "# 파이썬이란???\n",
        "# 귀도 반 로썸\n",
        "# 1. 인터프리터 언어이다. 한줄한줄 실행한 결과를 바로바로 볼수 있다. \n",
        "# 2. 플랫폼에 독립적이다. 맥 윈도우 리눅스...전부 같은 파이썬 코드를 사용할수 있다. \n",
        "# 3. 객체지향 언어이다. 객체를 기반으로 정보은닉, 상속 등등의 개념을 지원한다. \n",
        "# 4. 동적 타이핑 언어이다. 실행 중에 처리할수 있는 작업을 동적 작업이라고 하고 파이썬은 이것을 지원한다. \n",
        "# 5. 개발 속도가 빠르다. 이미 만들어 놓은 다양한 라이브러리를 사용하여 빠르게 새로운 프로그램을 개발할수 있다. \n",
        "\n",
        "\n",
        "# 주석 comment  \n",
        "# 프로그램의 소스 코드에 설명을 작성하는 부분을 주석이라고 한다. \n",
        "# DocString  ''' 코드 설명   '''\n",
        "\n",
        "\n",
        "'''\n",
        "여러줄1\n",
        "여러줄2\n",
        "여러줄3\n",
        "'''\n",
        "\"\"\"\n",
        "\"\"\"\n",
        "\n",
        "\n"
      ]
    },
    {
      "cell_type": "code",
      "source": [
        "# 코드 위에 주석 다릭\n",
        "print('Hello World')  # 코드 오른쪽에 주석 달기"
      ],
      "metadata": {
        "id": "GyixRjq1o9Yc"
      },
      "execution_count": null,
      "outputs": []
    },
    {
      "cell_type": "code",
      "source": [
        "# 변수...\n",
        "# variable 어떤 데이터를 저장할때 사용하는 메모리 저장소이다. \n",
        "\n",
        "score = 100\n",
        "\n",
        "print(100)\n",
        "print(score)\n",
        "\n",
        "# 변수명 만드는 규칙\n",
        "\n",
        "# 1 영문 한글 숫자 밑줄로 구성된다. (한글은 사용하지 말자)\n",
        "# 2 특수문자느 사용할수 없다.  @#$%^&*\n",
        "# 3 대문자와 소문자를 구분한다. a = 1    A = 2\n",
        "# 4 변수명의 첫글자에는 숫자가 올수 없다. a1 = 1 (0)  1a = 2 (x)\n",
        "# 5 예약어, 키워드는 변수명으로 사용할수 없다. \n",
        "\n",
        "# * 가급적이면 소문자로만 만들자\n",
        "# * 한글 변수명은 가능하지만 사용하지 말자\n",
        "# * 변수명에 의미를 담자.  a = 85    mathScore = 85"
      ],
      "metadata": {
        "colab": {
          "base_uri": "https://localhost:8080/"
        },
        "id": "aHjydP1AraZK",
        "outputId": "2d12f8e1-5080-44f9-82ce-aaecb6326c87"
      },
      "execution_count": 8,
      "outputs": [
        {
          "output_type": "stream",
          "name": "stdout",
          "text": [
            "100\n",
            "100\n"
          ]
        }
      ]
    },
    {
      "cell_type": "code",
      "source": [
        "# 기본 자료형\n",
        "\n",
        "#정수\n",
        "a = 3\n",
        "print(a)\n",
        "a = 3.14\n",
        "print(a)\n",
        "a = 'hello'\n",
        "print(a)\n"
      ],
      "metadata": {
        "colab": {
          "base_uri": "https://localhost:8080/"
        },
        "id": "3GJxR-3ItSYz",
        "outputId": "e78c6a2b-b3c6-4f08-fbd5-a6ed332d6f82"
      },
      "execution_count": 11,
      "outputs": [
        {
          "output_type": "stream",
          "name": "stdout",
          "text": [
            "3\n",
            "3.14\n",
            "hello\n"
          ]
        }
      ]
    },
    {
      "cell_type": "code",
      "source": [
        "int(1.9)"
      ],
      "metadata": {
        "colab": {
          "base_uri": "https://localhost:8080/"
        },
        "id": "K5rYqUvPz2RP",
        "outputId": "774f175e-fff5-43c7-87d5-c52e942c4f8c"
      },
      "execution_count": 12,
      "outputs": [
        {
          "output_type": "execute_result",
          "data": {
            "text/plain": [
              "1"
            ]
          },
          "metadata": {},
          "execution_count": 12
        }
      ]
    },
    {
      "cell_type": "code",
      "source": [
        "int(False)"
      ],
      "metadata": {
        "colab": {
          "base_uri": "https://localhost:8080/"
        },
        "id": "0gHzAR2w0OOf",
        "outputId": "0f5ddae6-99e9-4cba-d8b0-5a695af7993d"
      },
      "execution_count": 15,
      "outputs": [
        {
          "output_type": "execute_result",
          "data": {
            "text/plain": [
              "0"
            ]
          },
          "metadata": {},
          "execution_count": 15
        }
      ]
    },
    {
      "cell_type": "code",
      "source": [
        "int('100')"
      ],
      "metadata": {
        "colab": {
          "base_uri": "https://localhost:8080/"
        },
        "id": "Cy6kM0h00FpG",
        "outputId": "1ac9a8c1-a183-4dfa-aa74-6385505d0c9d"
      },
      "execution_count": 13,
      "outputs": [
        {
          "output_type": "execute_result",
          "data": {
            "text/plain": [
              "100"
            ]
          },
          "metadata": {},
          "execution_count": 13
        }
      ]
    },
    {
      "cell_type": "code",
      "source": [
        "# 실수 float \n",
        "\n",
        "float(1)"
      ],
      "metadata": {
        "colab": {
          "base_uri": "https://localhost:8080/"
        },
        "id": "pQKTcemA0e0Z",
        "outputId": "626887e6-522c-4c09-baee-c8b11692f84b"
      },
      "execution_count": 16,
      "outputs": [
        {
          "output_type": "execute_result",
          "data": {
            "text/plain": [
              "1.0"
            ]
          },
          "metadata": {},
          "execution_count": 16
        }
      ]
    },
    {
      "cell_type": "code",
      "source": [
        "float(True)"
      ],
      "metadata": {
        "colab": {
          "base_uri": "https://localhost:8080/"
        },
        "id": "9p6RE1to0rPf",
        "outputId": "fabca6ff-45a6-4676-c9d0-463b5af53c45"
      },
      "execution_count": 17,
      "outputs": [
        {
          "output_type": "execute_result",
          "data": {
            "text/plain": [
              "1.0"
            ]
          },
          "metadata": {},
          "execution_count": 17
        }
      ]
    },
    {
      "cell_type": "code",
      "source": [
        "# 논리\n",
        "\n",
        "bool(10)"
      ],
      "metadata": {
        "colab": {
          "base_uri": "https://localhost:8080/"
        },
        "id": "zR_surwx01Nr",
        "outputId": "b9f0d778-3347-4b0c-cc2a-2de8e4211bb5"
      },
      "execution_count": 18,
      "outputs": [
        {
          "output_type": "execute_result",
          "data": {
            "text/plain": [
              "True"
            ]
          },
          "metadata": {},
          "execution_count": 18
        }
      ]
    },
    {
      "cell_type": "code",
      "source": [
        "bool(1)"
      ],
      "metadata": {
        "colab": {
          "base_uri": "https://localhost:8080/"
        },
        "id": "Ti4WwNRs0-Nv",
        "outputId": "005a59e9-ed65-425b-a380-75634715deb6"
      },
      "execution_count": 19,
      "outputs": [
        {
          "output_type": "execute_result",
          "data": {
            "text/plain": [
              "True"
            ]
          },
          "metadata": {},
          "execution_count": 19
        }
      ]
    },
    {
      "cell_type": "code",
      "source": [
        "bool(0)"
      ],
      "metadata": {
        "colab": {
          "base_uri": "https://localhost:8080/"
        },
        "id": "uMorP_YP1DRW",
        "outputId": "d52d0a4a-88d4-42bd-f1e1-46cd68aa41f7"
      },
      "execution_count": 20,
      "outputs": [
        {
          "output_type": "execute_result",
          "data": {
            "text/plain": [
              "False"
            ]
          },
          "metadata": {},
          "execution_count": 20
        }
      ]
    },
    {
      "cell_type": "code",
      "source": [
        "# 문자열 str\n",
        "str(100)"
      ],
      "metadata": {
        "colab": {
          "base_uri": "https://localhost:8080/",
          "height": 35
        },
        "id": "W_GL46cY1Ly_",
        "outputId": "542ff155-7f61-4589-ff71-57e0efa9a5bf"
      },
      "execution_count": 21,
      "outputs": [
        {
          "output_type": "execute_result",
          "data": {
            "text/plain": [
              "'100'"
            ],
            "application/vnd.google.colaboratory.intrinsic+json": {
              "type": "string"
            }
          },
          "metadata": {},
          "execution_count": 21
        }
      ]
    },
    {
      "cell_type": "code",
      "source": [
        "str(True)"
      ],
      "metadata": {
        "colab": {
          "base_uri": "https://localhost:8080/",
          "height": 35
        },
        "id": "vRrNhC3V1VBb",
        "outputId": "8f49335f-0f1b-497b-8bb3-4bc0e66f26e3"
      },
      "execution_count": 22,
      "outputs": [
        {
          "output_type": "execute_result",
          "data": {
            "text/plain": [
              "'True'"
            ],
            "application/vnd.google.colaboratory.intrinsic+json": {
              "type": "string"
            }
          },
          "metadata": {},
          "execution_count": 22
        }
      ]
    },
    {
      "cell_type": "code",
      "source": [
        "str(3.14)"
      ],
      "metadata": {
        "colab": {
          "base_uri": "https://localhost:8080/",
          "height": 35
        },
        "id": "23bz0XZg1bzr",
        "outputId": "c65b8128-b762-41e7-dcd4-2e9e2c408085"
      },
      "execution_count": 23,
      "outputs": [
        {
          "output_type": "execute_result",
          "data": {
            "text/plain": [
              "'3.14'"
            ],
            "application/vnd.google.colaboratory.intrinsic+json": {
              "type": "string"
            }
          },
          "metadata": {},
          "execution_count": 23
        }
      ]
    },
    {
      "cell_type": "code",
      "source": [
        "# 인덱싱   몇번째 한글자\n",
        "\n",
        "s = 'Hello'\n",
        "s[0]\n",
        "\n",
        "# H e l l o\n",
        "# 0 1 2 3 4   index\n",
        "#-5-4-3-2-1"
      ],
      "metadata": {
        "colab": {
          "base_uri": "https://localhost:8080/",
          "height": 35
        },
        "id": "9aUz-kZq1kBA",
        "outputId": "be23a9b1-2994-4700-ee2d-d5d9935d3772"
      },
      "execution_count": 27,
      "outputs": [
        {
          "output_type": "execute_result",
          "data": {
            "text/plain": [
              "'H'"
            ],
            "application/vnd.google.colaboratory.intrinsic+json": {
              "type": "string"
            }
          },
          "metadata": {},
          "execution_count": 27
        }
      ]
    },
    {
      "cell_type": "code",
      "source": [
        "s[-4]"
      ],
      "metadata": {
        "colab": {
          "base_uri": "https://localhost:8080/",
          "height": 35
        },
        "id": "_uyaOIQN2iC9",
        "outputId": "72b1e147-dbfd-4ed4-dbce-f9d1fc227000"
      },
      "execution_count": 28,
      "outputs": [
        {
          "output_type": "execute_result",
          "data": {
            "text/plain": [
              "'e'"
            ],
            "application/vnd.google.colaboratory.intrinsic+json": {
              "type": "string"
            }
          },
          "metadata": {},
          "execution_count": 28
        }
      ]
    },
    {
      "cell_type": "code",
      "source": [
        "# 슬라이싱  몇번째부터 몇번째 여러글자\n",
        "s = 'Hello'\n",
        "# s[0:2]  # [시작:끝(미만)]\n",
        "# s[0:]   # 끝을 생략하면 끝까지\n",
        "s[:-1]    #시작을 생략하면 처음부터"
      ],
      "metadata": {
        "colab": {
          "base_uri": "https://localhost:8080/",
          "height": 35
        },
        "id": "p3b_46Vw3Z6e",
        "outputId": "190d215f-49cc-4e5e-f83c-9784a5397f31"
      },
      "execution_count": 31,
      "outputs": [
        {
          "output_type": "execute_result",
          "data": {
            "text/plain": [
              "'Hell'"
            ],
            "application/vnd.google.colaboratory.intrinsic+json": {
              "type": "string"
            }
          },
          "metadata": {},
          "execution_count": 31
        }
      ]
    }
  ]
}