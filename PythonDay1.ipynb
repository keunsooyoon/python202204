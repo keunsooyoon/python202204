{
  "nbformat": 4,
  "nbformat_minor": 0,
  "metadata": {
    "colab": {
      "name": "PythonDay1.ipynb",
      "provenance": [],
      "authorship_tag": "ABX9TyOy0MQU4T4Lyr8PhH4kAE1Y",
      "include_colab_link": true
    },
    "kernelspec": {
      "name": "python3",
      "display_name": "Python 3"
    },
    "language_info": {
      "name": "python"
    }
  },
  "cells": [
    {
      "cell_type": "markdown",
      "metadata": {
        "id": "view-in-github",
        "colab_type": "text"
      },
      "source": [
        "<a href=\"https://colab.research.google.com/github/keunsooyoon/python202204/blob/main/PythonDay1.ipynb\" target=\"_parent\"><img src=\"https://colab.research.google.com/assets/colab-badge.svg\" alt=\"Open In Colab\"/></a>"
      ]
    },
    {
      "cell_type": "code",
      "execution_count": 2,
      "metadata": {
        "id": "opfjE7koc2mg"
      },
      "outputs": [],
      "source": [
        "# 파이썬이란???\n",
        "# 귀도 반 로썸\n",
        "# 1. 인터프리터 언어이다. 한줄한줄 실행한 결과를 바로바로 볼수 있다. \n",
        "# 2. 플랫폼에 독립적이다. 맥 윈도우 리눅스...전부 같은 파이썬 코드를 사용할수 있다. \n",
        "# 3. 객체지향 언어이다. 객체를 기반으로 정보은닉, 상속 등등의 개념을 지원한다. \n",
        "# 4. 동적 타이핑 언어이다. 실행 중에 처리할수 있는 작업을 동적 작업이라고 하고 파이썬은 이것을 지원한다. \n",
        "# 5. 개발 속도가 빠르다. 이미 만들어 놓은 다양한 라이브러리를 사용하여 빠르게 새로운 프로그램을 개발할수 있다. \n"
      ]
    }
  ]
}