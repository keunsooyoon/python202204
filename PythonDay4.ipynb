{
  "nbformat": 4,
  "nbformat_minor": 0,
  "metadata": {
    "colab": {
      "name": "PythonDay4.ipynb",
      "provenance": [],
      "authorship_tag": "ABX9TyPOrYIGLDe/4WiPOklDqw4+",
      "include_colab_link": true
    },
    "kernelspec": {
      "name": "python3",
      "display_name": "Python 3"
    },
    "language_info": {
      "name": "python"
    }
  },
  "cells": [
    {
      "cell_type": "markdown",
      "metadata": {
        "id": "view-in-github",
        "colab_type": "text"
      },
      "source": [
        "<a href=\"https://colab.research.google.com/github/keunsooyoon/python202204/blob/main/PythonDay4.ipynb\" target=\"_parent\"><img src=\"https://colab.research.google.com/assets/colab-badge.svg\" alt=\"Open In Colab\"/></a>"
      ]
    },
    {
      "cell_type": "code",
      "execution_count": null,
      "metadata": {
        "colab": {
          "base_uri": "https://localhost:8080/"
        },
        "id": "yZIxoKjWZ8Mo",
        "outputId": "0c617356-d3de-4da2-f7fc-946147f9a7df"
      },
      "outputs": [
        {
          "output_type": "stream",
          "name": "stdout",
          "text": [
            "양수\n",
            "양수\n"
          ]
        }
      ],
      "source": [
        "# PythonDay4.ipynb\n",
        "\n",
        "# page 90\n",
        "\n",
        "# 조건문\n",
        "\n",
        "# IF - 특정 조건을 만족하는지 여부에따라 실행하는 코드가 달라져야 할때 사용된다. \n",
        "\n",
        "a= 6\n",
        "\n",
        "if a > 0:\n",
        "  print('양수')\n",
        "\n",
        "if True:\n",
        "  print('양수')\n",
        "  "
      ]
    },
    {
      "cell_type": "code",
      "source": [
        "c\n",
        "a = -5\n",
        "if a >= 0:\n",
        "  print('양수')\n",
        "else:\n",
        "  print('음수')\n",
        "\n"
      ],
      "metadata": {
        "colab": {
          "base_uri": "https://localhost:8080/"
        },
        "id": "214EbPeee11e",
        "outputId": "8e28c766-6408-4739-dd42-c20374f097bb"
      },
      "execution_count": null,
      "outputs": [
        {
          "output_type": "stream",
          "name": "stdout",
          "text": [
            "음수\n"
          ]
        }
      ]
    },
    {
      "cell_type": "code",
      "source": [
        "# if - elif\n",
        "\n",
        "important = 40\n",
        "\n",
        "if important >= 100:\n",
        "  print('상')\n",
        "else:\n",
        "  if important >= 50:\n",
        "    print('중')\n",
        "  else:\n",
        "    print('하')"
      ],
      "metadata": {
        "colab": {
          "base_uri": "https://localhost:8080/"
        },
        "id": "yaUMtCVWfTzq",
        "outputId": "7e821592-86f4-416d-9471-88b26833558e"
      },
      "execution_count": null,
      "outputs": [
        {
          "output_type": "stream",
          "name": "stdout",
          "text": [
            "상\n"
          ]
        }
      ]
    },
    {
      "cell_type": "code",
      "source": [
        "important = 40\n",
        "\n",
        "if important >= 100:\n",
        "  print('상')\n",
        "elif important >= 50:\n",
        "  print('중')\n",
        "else:\n",
        "  print('하')"
      ],
      "metadata": {
        "colab": {
          "base_uri": "https://localhost:8080/"
        },
        "id": "3uQiWacvg9hk",
        "outputId": "42f2665f-3246-4a02-f33e-79ffb8c11bd7"
      },
      "execution_count": null,
      "outputs": [
        {
          "output_type": "stream",
          "name": "stdout",
          "text": [
            "하\n"
          ]
        }
      ]
    },
    {
      "cell_type": "code",
      "source": [
        "score = 40\n",
        "\n",
        "if score >= 90:\n",
        "  print('A')\n",
        "elif score >= 80:\n",
        "  print('B')\n",
        "elif score >= 70:\n",
        "  print('C')\n",
        "elif score >= 60:\n",
        "  print('D')\n",
        "else:\n",
        "  print('F')"
      ],
      "metadata": {
        "colab": {
          "base_uri": "https://localhost:8080/"
        },
        "id": "o8KYzoknhh5a",
        "outputId": "740f6794-842d-4163-e5a7-5abfaf3828ca"
      },
      "execution_count": null,
      "outputs": [
        {
          "output_type": "stream",
          "name": "stdout",
          "text": [
            "F\n"
          ]
        }
      ]
    },
    {
      "cell_type": "code",
      "source": [
        "# p 99  #1\n",
        "\n",
        "score = int(input('점수를 입력하세요 >>> '))\n",
        "\n",
        "if score >= 90:\n",
        "  print(f'점수는 {score}점이고, 학점은 A학점입니다.')\n",
        "elif score >= 80:\n",
        "  print(f'점수는 {score}점이고, 학점은 B학점입니다.')\n",
        "elif score >= 70:\n",
        "  print(f'점수는 {score}점이고, 학점은 C학점입니다.')\n",
        "elif score >= 60:\n",
        "  print(f'점수는 {score}점이고, 학점은 D학점입니다.')\n",
        "else:\n",
        "  print(f'점수는 {score}점이고, 학점은 F학점입니다.')"
      ],
      "metadata": {
        "colab": {
          "base_uri": "https://localhost:8080/"
        },
        "id": "xY0ydqiZknhw",
        "outputId": "d5bd45f9-1459-4985-a9b7-95d491127054"
      },
      "execution_count": 15,
      "outputs": [
        {
          "output_type": "stream",
          "name": "stdout",
          "text": [
            "점수를 입력하세요 >>> 95\n",
            "점수는 95점이고, 학점은 A학점입니다.\n"
          ]
        }
      ]
    },
    {
      "cell_type": "code",
      "source": [
        "score = int(input('점수를 입력하세요 >>> '))\n",
        "\n",
        "if score >= 90:\n",
        "  hak = 'A'\n",
        "elif score >= 80:\n",
        "  hak = 'B'\n",
        "elif score >= 70:\n",
        "  hak = 'C'\n",
        "elif score >= 60:\n",
        "  hak = 'D'\n",
        "else:\n",
        "  hak = 'F'\n",
        "\n",
        "print(f'점수는 {score}점이고, 학점은 {hak}학점입니다.')"
      ],
      "metadata": {
        "colab": {
          "base_uri": "https://localhost:8080/"
        },
        "id": "xFyEips2ll2X",
        "outputId": "8105de52-7761-4e71-a387-7e362655806f"
      },
      "execution_count": 16,
      "outputs": [
        {
          "output_type": "stream",
          "name": "stdout",
          "text": [
            "점수를 입력하세요 >>> 50\n",
            "점수는 50점이고, 학점은 F학점입니다.\n"
          ]
        }
      ]
    },
    {
      "cell_type": "code",
      "source": [
        "# p 99  #2\n",
        "\n",
        "num = int(input('정수를 입력하세요 >>> '))\n",
        "\n",
        "if num % 3 == 0:\n",
        "  print(f'{num}는 3의 배수입니다.')\n",
        "else:\n",
        "  print(f'{num}는 3의 배수가 아닙니다.')"
      ],
      "metadata": {
        "colab": {
          "base_uri": "https://localhost:8080/"
        },
        "id": "nO7v8I3XmQuU",
        "outputId": "e462fd6f-4923-4d2c-9a99-c29606858829"
      },
      "execution_count": 19,
      "outputs": [
        {
          "output_type": "stream",
          "name": "stdout",
          "text": [
            "정수를 입력하세요 >>> 15\n",
            "15는 3의 배수입니다.\n"
          ]
        }
      ]
    },
    {
      "cell_type": "code",
      "source": [
        "# p 99  #3\n",
        "\n",
        "# p99 3번\n",
        "\n",
        "# X 틀린 케이스\n",
        "\n",
        "a = input('정수1 입력 >>>')\n",
        "b = input('정수2 입력 >>>')\n",
        "c = input('정수3 입력 >>>')\n",
        "\n",
        "if a > b > c:\n",
        "  print(f'가장 큰 수는 {a}입니다.')\n",
        "elif b > a > c:\n",
        "  print(f'가장 큰 수는 {b}입니다.')\n",
        "else:\n",
        "  print(f'가장 큰 수는 {c}입니다.')\n"
      ],
      "metadata": {
        "colab": {
          "base_uri": "https://localhost:8080/"
        },
        "id": "zNTmjpLOopPl",
        "outputId": "66f943b3-6b39-4b9e-c138-9b0f6d81caca"
      },
      "execution_count": 20,
      "outputs": [
        {
          "output_type": "stream",
          "name": "stdout",
          "text": [
            "정수1 입력 >>>3\n",
            "정수2 입력 >>>3\n",
            "정수3 입력 >>>2\n",
            "가장 큰 수는 2입니다.\n"
          ]
        }
      ]
    },
    {
      "cell_type": "code",
      "source": [
        "# by 조형원 (O)\n",
        "\n",
        "no1 = int(input('정수1입력'))\n",
        "no2 = int(input('정수2입력'))\n",
        "no3 = int(input('정수3입력'))\n",
        "\n",
        "if no1 > no2 and no2 > no3:\n",
        "  result = no1\n",
        "elif no3 > no2 and no2 > no1:\n",
        "  result = no3\n",
        "else:\n",
        "  result = no2\n",
        "print(f'가장큰수는{result}입니다.')\n"
      ],
      "metadata": {
        "colab": {
          "base_uri": "https://localhost:8080/"
        },
        "id": "qLxvZYr-rDqr",
        "outputId": "740bfc25-58fc-46fe-dc28-5d3da17bc688"
      },
      "execution_count": 21,
      "outputs": [
        {
          "output_type": "stream",
          "name": "stdout",
          "text": [
            "정수1입력3\n",
            "정수2입력3\n",
            "정수3입력2\n",
            "가장큰수는3입니다.\n"
          ]
        }
      ]
    },
    {
      "cell_type": "code",
      "source": [
        "no1 = int(input('정수1입력'))\n",
        "no2 = int(input('정수2입력'))\n",
        "no3 = int(input('정수3입력'))\n",
        "\n",
        "print(f'가장큰수는{max(no1,no2,no3)}입니다.')"
      ],
      "metadata": {
        "colab": {
          "base_uri": "https://localhost:8080/"
        },
        "id": "9GFmAw6lrZkj",
        "outputId": "38ba301d-6ca6-4352-d16f-e87f224be6fc"
      },
      "execution_count": 22,
      "outputs": [
        {
          "output_type": "stream",
          "name": "stdout",
          "text": [
            "정수1입력3\n",
            "정수2입력3\n",
            "정수3입력2\n",
            "가장큰수는3입니다.\n"
          ]
        }
      ]
    },
    {
      "cell_type": "code",
      "source": [
        "# p 99  #4\n",
        "car = input('차량번호를 입력하세요 >>> ')\n",
        "\n",
        "no = car[-1]\n",
        "\n",
        "print(no)"
      ],
      "metadata": {
        "colab": {
          "base_uri": "https://localhost:8080/"
        },
        "id": "lTpYDGcwrtxb",
        "outputId": "568ad682-c468-41c0-efbd-0a6430ad096e"
      },
      "execution_count": 23,
      "outputs": [
        {
          "output_type": "stream",
          "name": "stdout",
          "text": [
            "차량번호를 입력하세요 >>> 237가1234\n",
            "4\n"
          ]
        }
      ]
    },
    {
      "cell_type": "code",
      "source": [
        "# by 백기원\n",
        "\n",
        "car_num = input('차량번호를 입력하세요>>>')\n",
        "sl_num=int(car_num[-1])\n",
        "if sl_num % 2 == 0:\n",
        "  result='운행가능'\n",
        "else:\n",
        "  result='운행 불가능'\n",
        "print(f'차량번호 {car_num}은 {result}입니다.' )\n",
        "\n"
      ],
      "metadata": {
        "colab": {
          "base_uri": "https://localhost:8080/"
        },
        "id": "XA5Cq8h-t0lX",
        "outputId": "63bc7181-6747-4f7a-cde6-3f0f0421c19f"
      },
      "execution_count": 24,
      "outputs": [
        {
          "output_type": "stream",
          "name": "stdout",
          "text": [
            "차량번호를 입력하세요>>>237가1234\n",
            "차량번호 237가1234은 운행가능입니다.\n"
          ]
        }
      ]
    },
    {
      "cell_type": "code",
      "source": [
        "# 반복문 \n",
        "# while  - 반복횟수를 정확히 모를 때,        해질때까지 운동장을 돌자\n",
        "# for    - 반복횟수를 정확히 알 때 (*****)   운동장을 10바퀴 돌자\n",
        "\n",
        "\n",
        "# while True:\n",
        "#   print('hello python')\n",
        "\n",
        "n = 1\n",
        "while n <= 10:\n",
        "  print(f'{n} : hello world')\n",
        "  n += 1"
      ],
      "metadata": {
        "colab": {
          "base_uri": "https://localhost:8080/"
        },
        "id": "pdtmQBGpxpzR",
        "outputId": "931d855f-0bd3-480c-e901-074813d6846a"
      },
      "execution_count": 27,
      "outputs": [
        {
          "output_type": "stream",
          "name": "stdout",
          "text": [
            "1 : hello world\n",
            "2 : hello world\n",
            "3 : hello world\n",
            "4 : hello world\n",
            "5 : hello world\n",
            "6 : hello world\n",
            "7 : hello world\n",
            "8 : hello world\n",
            "9 : hello world\n",
            "10 : hello world\n"
          ]
        }
      ]
    },
    {
      "cell_type": "code",
      "source": [
        "n = 10\n",
        "while n >= 1:\n",
        "  print(n)\n",
        "  n -= 1"
      ],
      "metadata": {
        "colab": {
          "base_uri": "https://localhost:8080/"
        },
        "id": "hDBtoMX40b2t",
        "outputId": "efb2ee0e-89d1-4e51-9ae0-b932b11c38e3"
      },
      "execution_count": 31,
      "outputs": [
        {
          "output_type": "stream",
          "name": "stdout",
          "text": [
            "10\n",
            "9\n",
            "8\n",
            "7\n",
            "6\n",
            "5\n",
            "4\n",
            "3\n",
            "2\n",
            "1\n"
          ]
        }
      ]
    },
    {
      "cell_type": "code",
      "source": [
        "my_list = []\n",
        "\n",
        "n = int(input('정수를 입력하세요(종료는 0입니다. >>> '))\n",
        "\n",
        "while n != 0:\n",
        "  my_list.append(n)\n",
        "  n = int(input('정수를 입력하세요(종료는 0입니다. >>> '))\n",
        "\n",
        "print(my_list)"
      ],
      "metadata": {
        "colab": {
          "base_uri": "https://localhost:8080/"
        },
        "id": "yUd3VsDU2hzM",
        "outputId": "68f03fee-be14-44e5-d8e1-1af5b043d959"
      },
      "execution_count": 32,
      "outputs": [
        {
          "output_type": "stream",
          "name": "stdout",
          "text": [
            "정수를 입력하세요(종료는 0입니다. >>> 2\n",
            "정수를 입력하세요(종료는 0입니다. >>> 5\n",
            "정수를 입력하세요(종료는 0입니다. >>> 3\n",
            "정수를 입력하세요(종료는 0입니다. >>> 0\n",
            "[2, 5, 3]\n"
          ]
        }
      ]
    },
    {
      "cell_type": "code",
      "source": [
        "day = 1\n",
        "while day <= 5:\n",
        "  hour = 1\n",
        "  while hour <= 3:\n",
        "    print(day,'일차', hour,'교시')\n",
        "    hour += 1\n",
        "  day += 1"
      ],
      "metadata": {
        "colab": {
          "base_uri": "https://localhost:8080/"
        },
        "id": "Yyt6Puh43Vmi",
        "outputId": "08e80698-658a-4fd3-b55b-e41eee1c919e"
      },
      "execution_count": 36,
      "outputs": [
        {
          "output_type": "stream",
          "name": "stdout",
          "text": [
            "1 일차 1 교시\n",
            "1 일차 2 교시\n",
            "1 일차 3 교시\n",
            "2 일차 1 교시\n",
            "2 일차 2 교시\n",
            "2 일차 3 교시\n",
            "3 일차 1 교시\n",
            "3 일차 2 교시\n",
            "3 일차 3 교시\n",
            "4 일차 1 교시\n",
            "4 일차 2 교시\n",
            "4 일차 3 교시\n",
            "5 일차 1 교시\n",
            "5 일차 2 교시\n",
            "5 일차 3 교시\n"
          ]
        }
      ]
    },
    {
      "cell_type": "code",
      "source": [
        "dan = 2\n",
        "while dan <= 9:\n",
        "  no = 1\n",
        "  while no <= 9:\n",
        "    print(f'{dan} * {no} = {dan * no}')\n",
        "    no += 1\n",
        "  dan += 1"
      ],
      "metadata": {
        "colab": {
          "base_uri": "https://localhost:8080/"
        },
        "id": "0j_6t0FV4noG",
        "outputId": "7a9ff641-46c0-4fd9-99be-34e377d9e721"
      },
      "execution_count": 39,
      "outputs": [
        {
          "output_type": "stream",
          "name": "stdout",
          "text": [
            "2 * 1 = 2\n",
            "2 * 2 = 4\n",
            "2 * 3 = 6\n",
            "2 * 4 = 8\n",
            "2 * 5 = 10\n",
            "2 * 6 = 12\n",
            "2 * 7 = 14\n",
            "2 * 8 = 16\n",
            "2 * 9 = 18\n",
            "3 * 1 = 3\n",
            "3 * 2 = 6\n",
            "3 * 3 = 9\n",
            "3 * 4 = 12\n",
            "3 * 5 = 15\n",
            "3 * 6 = 18\n",
            "3 * 7 = 21\n",
            "3 * 8 = 24\n",
            "3 * 9 = 27\n",
            "4 * 1 = 4\n",
            "4 * 2 = 8\n",
            "4 * 3 = 12\n",
            "4 * 4 = 16\n",
            "4 * 5 = 20\n",
            "4 * 6 = 24\n",
            "4 * 7 = 28\n",
            "4 * 8 = 32\n",
            "4 * 9 = 36\n",
            "5 * 1 = 5\n",
            "5 * 2 = 10\n",
            "5 * 3 = 15\n",
            "5 * 4 = 20\n",
            "5 * 5 = 25\n",
            "5 * 6 = 30\n",
            "5 * 7 = 35\n",
            "5 * 8 = 40\n",
            "5 * 9 = 45\n",
            "6 * 1 = 6\n",
            "6 * 2 = 12\n",
            "6 * 3 = 18\n",
            "6 * 4 = 24\n",
            "6 * 5 = 30\n",
            "6 * 6 = 36\n",
            "6 * 7 = 42\n",
            "6 * 8 = 48\n",
            "6 * 9 = 54\n",
            "7 * 1 = 7\n",
            "7 * 2 = 14\n",
            "7 * 3 = 21\n",
            "7 * 4 = 28\n",
            "7 * 5 = 35\n",
            "7 * 6 = 42\n",
            "7 * 7 = 49\n",
            "7 * 8 = 56\n",
            "7 * 9 = 63\n",
            "8 * 1 = 8\n",
            "8 * 2 = 16\n",
            "8 * 3 = 24\n",
            "8 * 4 = 32\n",
            "8 * 5 = 40\n",
            "8 * 6 = 48\n",
            "8 * 7 = 56\n",
            "8 * 8 = 64\n",
            "8 * 9 = 72\n",
            "9 * 1 = 9\n",
            "9 * 2 = 18\n",
            "9 * 3 = 27\n",
            "9 * 4 = 36\n",
            "9 * 5 = 45\n",
            "9 * 6 = 54\n",
            "9 * 7 = 63\n",
            "9 * 8 = 72\n",
            "9 * 9 = 81\n"
          ]
        }
      ]
    },
    {
      "cell_type": "code",
      "source": [
        "#p111 #1\n",
        "\n",
        "no = int(input('정수를 입력하세요 >>>'))\n",
        "cnt = 1\n",
        "\n",
        "if no <= 0:\n",
        "  print('잘못된 입력입니다.')\n",
        "else:\n",
        "  while cnt <= no:\n",
        "    print(f'{cnt}번째 Hello')\n",
        "    cnt += 1"
      ],
      "metadata": {
        "colab": {
          "base_uri": "https://localhost:8080/"
        },
        "id": "X06q503S5sip",
        "outputId": "dd8ec6a8-c7f1-46b6-8939-7a7bac12f4a6"
      },
      "execution_count": 43,
      "outputs": [
        {
          "output_type": "stream",
          "name": "stdout",
          "text": [
            "정수를 입력하세요 >>>5\n",
            "1번째 Hello\n",
            "2번째 Hello\n",
            "3번째 Hello\n",
            "4번째 Hello\n",
            "5번째 Hello\n"
          ]
        }
      ]
    },
    {
      "cell_type": "code",
      "source": [
        "#p111 #2\n",
        "\n",
        "n = 1\n",
        "while n <= 100:\n",
        "  if n % 7 == 0:   \n",
        "    print(n) \n",
        "  n += 1"
      ],
      "metadata": {
        "colab": {
          "base_uri": "https://localhost:8080/"
        },
        "id": "t-70YRQ1-ZDP",
        "outputId": "9411162b-7f7a-4f25-b327-28152fd62d16"
      },
      "execution_count": 45,
      "outputs": [
        {
          "output_type": "stream",
          "name": "stdout",
          "text": [
            "7\n",
            "14\n",
            "21\n",
            "28\n",
            "35\n",
            "42\n",
            "49\n",
            "56\n",
            "63\n",
            "70\n",
            "77\n",
            "84\n",
            "91\n",
            "98\n"
          ]
        }
      ]
    },
    {
      "cell_type": "code",
      "source": [
        ""
      ],
      "metadata": {
        "id": "J7lzzX-x8bSH"
      },
      "execution_count": null,
      "outputs": []
    },
    {
      "cell_type": "code",
      "source": [
        ""
      ],
      "metadata": {
        "id": "sLwrlcyA8Y8m"
      },
      "execution_count": null,
      "outputs": []
    }
  ]
}