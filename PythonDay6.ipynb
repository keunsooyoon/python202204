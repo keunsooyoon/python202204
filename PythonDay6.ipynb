{
  "nbformat": 4,
  "nbformat_minor": 0,
  "metadata": {
    "colab": {
      "name": "PythonDay6.ipynb",
      "provenance": [],
      "authorship_tag": "ABX9TyPQyHumF/auzhZdGw44DMpo",
      "include_colab_link": true
    },
    "kernelspec": {
      "name": "python3",
      "display_name": "Python 3"
    },
    "language_info": {
      "name": "python"
    }
  },
  "cells": [
    {
      "cell_type": "markdown",
      "metadata": {
        "id": "view-in-github",
        "colab_type": "text"
      },
      "source": [
        "<a href=\"https://colab.research.google.com/github/keunsooyoon/python202204/blob/main/PythonDay6.ipynb\" target=\"_parent\"><img src=\"https://colab.research.google.com/assets/colab-badge.svg\" alt=\"Open In Colab\"/></a>"
      ]
    },
    {
      "cell_type": "code",
      "execution_count": 1,
      "metadata": {
        "colab": {
          "base_uri": "https://localhost:8080/"
        },
        "id": "WFp1cjntbKMP",
        "outputId": "8c1bb8df-a59a-4a08-8a17-6cbdcb65d342"
      },
      "outputs": [
        {
          "output_type": "stream",
          "name": "stdout",
          "text": [
            "우편번호 12345\n",
            "서울시 영등포구 여의도동\n"
          ]
        }
      ],
      "source": [
        "# p192  반환값\n",
        "\n",
        "def address():\n",
        "  str = '우편번호 12345\\n'\n",
        "  str += '서울시 영등포구 여의도동'\n",
        "  return str\n",
        "\n",
        "print(address())"
      ]
    },
    {
      "cell_type": "code",
      "source": [
        "def calculator(*args):  #  가변 매개변수\n",
        "  return (sum(args), sum(args)/len(args), max(args), min(args))  # 1개의 튜플로 리턴\n",
        "\n",
        "a,b,c,d = calculator(1,2,3,4,5)\n",
        "print(a)\n",
        "print(b)\n",
        "print(c)\n",
        "print(d)"
      ],
      "metadata": {
        "colab": {
          "base_uri": "https://localhost:8080/"
        },
        "id": "iJNEpuBGfLVM",
        "outputId": "50e88348-d430-427d-a4b5-179be797bbbb"
      },
      "execution_count": 3,
      "outputs": [
        {
          "output_type": "stream",
          "name": "stdout",
          "text": [
            "15\n",
            "3.0\n",
            "5\n",
            "1\n"
          ]
        }
      ]
    },
    {
      "cell_type": "code",
      "source": [
        "def charge(energy):\n",
        "  if energy < 0:\n",
        "    print('0보다 작은 에너지는 충전할수 없습니다.')\n",
        "    return\n",
        "  print('에너지가 충전되었습니다.')\n",
        "\n",
        "charge(-1)"
      ],
      "metadata": {
        "colab": {
          "base_uri": "https://localhost:8080/"
        },
        "id": "I3h3MZVNgfxI",
        "outputId": "99ccd680-f6dc-4732-aa0c-0c6891f7c542"
      },
      "execution_count": 7,
      "outputs": [
        {
          "output_type": "stream",
          "name": "stdout",
          "text": [
            "0보다 작은 에너지는 충전할수 없습니다.\n"
          ]
        }
      ]
    },
    {
      "cell_type": "code",
      "source": [
        "# 지역변수 local variable (*****) 와 전역변수 global variable\n",
        "\n",
        "def f():\n",
        "  a = 10\n",
        "  print(f'f() 내부 : {a}')\n",
        "\n",
        "f()\n",
        "\n",
        "print(a)\n",
        "\n",
        "# 함수 안에서 선언한 변수(지역변수)는 함수 안에서만 의미가 있다. "
      ],
      "metadata": {
        "colab": {
          "base_uri": "https://localhost:8080/",
          "height": 232
        },
        "id": "cmEqwh-ahUR8",
        "outputId": "1bd3562a-e236-43c6-d0ff-3742a7f597ee"
      },
      "execution_count": 1,
      "outputs": [
        {
          "output_type": "stream",
          "name": "stdout",
          "text": [
            "f() 내부 : 10\n"
          ]
        },
        {
          "output_type": "error",
          "ename": "NameError",
          "evalue": "ignored",
          "traceback": [
            "\u001b[0;31m---------------------------------------------------------------------------\u001b[0m",
            "\u001b[0;31mNameError\u001b[0m                                 Traceback (most recent call last)",
            "\u001b[0;32m<ipython-input-1-23d3b3a65507>\u001b[0m in \u001b[0;36m<module>\u001b[0;34m()\u001b[0m\n\u001b[1;32m      6\u001b[0m \u001b[0;34m\u001b[0m\u001b[0m\n\u001b[1;32m      7\u001b[0m \u001b[0mf\u001b[0m\u001b[0;34m(\u001b[0m\u001b[0;34m)\u001b[0m\u001b[0;34m\u001b[0m\u001b[0;34m\u001b[0m\u001b[0m\n\u001b[0;32m----> 8\u001b[0;31m \u001b[0mprint\u001b[0m\u001b[0;34m(\u001b[0m\u001b[0ma\u001b[0m\u001b[0;34m)\u001b[0m\u001b[0;34m\u001b[0m\u001b[0;34m\u001b[0m\u001b[0m\n\u001b[0m",
            "\u001b[0;31mNameError\u001b[0m: name 'a' is not defined"
          ]
        }
      ]
    },
    {
      "cell_type": "code",
      "source": [
        "b = 10  #전역변수 global variable\n",
        "\n",
        "def f():\n",
        "  print(f'f() 내부:{b}')\n",
        "\n",
        "f()\n",
        "print(b)"
      ],
      "metadata": {
        "colab": {
          "base_uri": "https://localhost:8080/"
        },
        "id": "Cmye6b3-i2sn",
        "outputId": "7ae23129-341e-479b-ae9a-0fd030966d6e"
      },
      "execution_count": 3,
      "outputs": [
        {
          "output_type": "stream",
          "name": "stdout",
          "text": [
            "f() 내부:10\n",
            "10\n"
          ]
        }
      ]
    },
    {
      "cell_type": "code",
      "source": [
        "# p199 #1\n",
        "\n",
        "def vending_machine(money):\n",
        "  price = 700 # 한잔 가격 700원\n",
        "  cups = money // price # 3000 // 700   ->> 4\n",
        "  for drink in range(cups + 1):\n",
        "    coin = money - price * drink\n",
        "    print(f'음료수 = {drink}개, 잔돈 = {coin}원')   # cup 4   coin 200\n",
        "\n",
        "vending_machine(3000)"
      ],
      "metadata": {
        "colab": {
          "base_uri": "https://localhost:8080/"
        },
        "id": "RT6avqjJkQXA",
        "outputId": "3c5dac51-cf2a-4757-f68a-905ebf614c39"
      },
      "execution_count": 4,
      "outputs": [
        {
          "output_type": "stream",
          "name": "stdout",
          "text": [
            "음료수 = 0개, 잔돈 = 3000원\n",
            "음료수 = 1개, 잔돈 = 2300원\n",
            "음료수 = 2개, 잔돈 = 1600원\n",
            "음료수 = 3개, 잔돈 = 900원\n",
            "음료수 = 4개, 잔돈 = 200원\n"
          ]
        }
      ]
    },
    {
      "cell_type": "code",
      "source": [
        "# p200 #2\n",
        "\n",
        "def get_average(marks):\n",
        "  sum = 0\n",
        "  for mark in marks:\n",
        "    sum += marks[mark]\n",
        "  avg = sum / len(marks)\n",
        "  return avg\n",
        "\n",
        "marks = {'국어':90, '영어':80, '수학':85}   \n",
        "average = get_average(marks)\n",
        "print(f'평균은 {average}점 입니다.')\n",
        "\n"
      ],
      "metadata": {
        "colab": {
          "base_uri": "https://localhost:8080/"
        },
        "id": "35Adthm1svyu",
        "outputId": "2a4381e3-1afa-447f-d5f4-f427c2f452f7"
      },
      "execution_count": 9,
      "outputs": [
        {
          "output_type": "stream",
          "name": "stdout",
          "text": [
            "평균은 85.0점 입니다.\n"
          ]
        }
      ]
    },
    {
      "cell_type": "code",
      "source": [
        "# module 과 import\n",
        "\n",
        "# module = .py   모든 파이썬 파일은 모듈이다. \n",
        "\n"
      ],
      "metadata": {
        "id": "PpY1_VGAuN7-"
      },
      "execution_count": 9,
      "outputs": []
    }
  ]
}